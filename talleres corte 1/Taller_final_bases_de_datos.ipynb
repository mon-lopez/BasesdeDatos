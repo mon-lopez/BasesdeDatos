{
  "nbformat": 4,
  "nbformat_minor": 0,
  "metadata": {
    "colab": {
      "provenance": []
    },
    "kernelspec": {
      "name": "python3",
      "display_name": "Python 3"
    }
  },
  "cells": [
    {
      "cell_type": "code",
      "source": [
        "# Importar pandas y NumPy\n",
        "import pandas as pd\n",
        "import numpy as np\n",
        "import matplotlib as mpl\n",
        "import matplotlib.pyplot as plt\n",
        "%matplotlib inline"
      ],
      "metadata": {
        "id": "erRn493q0ot8"
      },
      "execution_count": 1,
      "outputs": []
    },
    {
      "cell_type": "markdown",
      "metadata": {
        "id": "22zXjFMRkUkJ"
      },
      "source": [
        "#**Entendimiento de los datos con *pandas* y gráficas con matplotlib**\n",
        "---\n",
        "\n",
        "Este es un quiz para revisar las habilidades adquiridas usando *NumPy* y *pandas* en el proceso de exploración y entendimiento de conjuntos de datos. Se utilizará el [dataset Titanic](https://www.kaggle.com/c/titanic) disponible en *Kaggle*, en la pregunta 2 se explica el procedimiento para cargar estos datos.\n",
        "\n",
        "El conjunto de datos del Titanic cuenta con múltiples variables de la tragedia:\n",
        "\n",
        "| Variable | Definición\t| Valores |\n",
        "| --- | --- | --- |\n",
        "| survival | \tSupervivencia  | \t0 = No, 1 = Sí |\n",
        "| pclass \t| Clase del tiquete | \t1 = 1ra, 2 = 2da, 3 = 3ra\n",
        "| sex \t| Sexo \t| |\n",
        "| Age |\tEdad en años \t| |\n",
        "| sibsp |\t# de hermanos / cónyuge abordo del Titanic \t| |\n",
        "| parch |\t# de padres / hijos abordo del Titanic \t| |\n",
        "| ticket |\tNúmero del ticket | |\n",
        "| fare \t| Costo del ticket | |\n",
        "| cabin |\tNúmero de la cabina \t| |\n",
        "| embarked |\tPuerto de embarque |\tC = Cherbourg, Q = Queenstown, S = Southampton |"
      ]
    },
    {
      "cell_type": "markdown",
      "source": [
        "### **PREGUNTA 1.**\n",
        "---\n",
        "\n",
        "La normalización es una operación muy común en el análisis de datos y el aprendizaje computacional con el cual se pretende obtener una escala y rango común para conjuntos de datos numéricos.\n",
        "\n",
        "Uno de los métodos de normalización más comunes es la **normalización estándar**, donde se calcula el puntaje estándar (o puntaje $z$) para cada valor y se usa para representar la posición de cada dato con respecto al conjunto. Esta normalización se obtiene al restar la media aritmética a cada dato (centrando los datos) y dividiendo este resultado entre la desviación estándar (reescalando).\n",
        "\n",
        "La normalización estándar se puede definir mediante la siguiente fórmula:\n",
        "\n",
        "$$z_i = \\frac{x_i - \\mu}{\\sigma}$$\n",
        "\n",
        "Donde $\\mu$ es la media y $\\sigma$ es la desviación estándar de los datos.\n",
        "\n",
        "Implementar la función **`normalizacion`**, que reciba como argumento un arreglo de *NumPy* **`X`** con dimensión **`(n,)`** y retorne un arreglo normalizado con la misma dimensión."
      ],
      "metadata": {
        "id": "MMvWYjSvyTgr"
      }
    },
    {
      "cell_type": "code",
      "source": [
        "# FUNCIÓN CALIFICADA: normalizacion(X)\n",
        "def normalizacion(X):\n",
        "  \"\"\"\n",
        "  X: un arreglo de NumPy con dimensión (n,)\n",
        "\n",
        "  Retorna el arreglo X normalizado con dimensión (n,)\n",
        "  \"\"\"\n",
        "  ### ESCRIBA SU CÓDIGO AQUÍ ###\n",
        "  # Reemplace la palabra None por el código correspondiente\n",
        "  # ~ 4 líneas de código\n",
        "  # Obtenga la media de los datos.\n",
        "  media = X.mean()\n",
        "  # Obtenga la desviación estándar de los datos.\n",
        "  desv = X.std()\n",
        "  # Calcule la normalización.\n",
        "  X_normalizado = (X - media)/desv\n",
        "  ### FIN DEL CÓDIGO ###\n",
        "  return X_normalizado"
      ],
      "metadata": {
        "id": "m55c8RKtyheT"
      },
      "execution_count": 2,
      "outputs": []
    },
    {
      "cell_type": "code",
      "source": [
        "# CELDA DE PRUEBAS\n",
        "X0 = np.array([4.8, 4.0, 4.2, 4.0, 5.0])\n",
        "\n",
        "normalizacion(X0)"
      ],
      "metadata": {
        "id": "EmqisrZzytv1",
        "colab": {
          "base_uri": "https://localhost:8080/"
        },
        "outputId": "47938645-afde-488a-c57a-5fff642bc048"
      },
      "execution_count": 3,
      "outputs": [
        {
          "output_type": "execute_result",
          "data": {
            "text/plain": [
              "array([ 0.95346259, -0.95346259, -0.47673129, -0.95346259,  1.43019388])"
            ]
          },
          "metadata": {},
          "execution_count": 3
        }
      ]
    },
    {
      "cell_type": "markdown",
      "source": [
        "La salida de la celda anterior debería ser:\n",
        "```\n",
        "array([ 0.95346259, -0.95346259, -0.47673129, -0.95346259,  1.43019388])\n",
        "```"
      ],
      "metadata": {
        "id": "UcLFDZ6JyzQO"
      }
    },
    {
      "cell_type": "markdown",
      "metadata": {
        "id": "adqf_QGVpsMi"
      },
      "source": [
        "## **PREGUNTA 2.**\n",
        "---\n",
        "> **Procedimiento:**\n",
        "\n",
        "  1. Por favor descargue el archivo con el conjunto de datos desde el siguiente enlace: **[titanic.csv](https://raw.githubusercontent.com/JuezUN/datasets/master/titanic.csv)**.\n",
        "  \n",
        "  2. En el enlace, haga clic derecho y seleccione la opción **\"Guardar como...\"**.\n",
        "\n",
        "  3. Cargue este archivo en su sistema de archivos de **Google Colaboratory**.\n",
        "\n",
        "4. Ejecute la siguiente celda para cargar el conjunto de datos dentro del DataFrame de *pandas* llamado **`df`**:"
      ]
    },
    {
      "cell_type": "code",
      "metadata": {
        "id": "Y9F6G_l5pKOZ",
        "colab": {
          "base_uri": "https://localhost:8080/",
          "height": 258
        },
        "outputId": "132b0fb6-d7cc-4ab9-c33b-c3a1c8bafbbe"
      },
      "source": [
        "### CELDA PARA REALIZAR EL CARGUE DE LOS DATOS\n",
        "df = pd.read_csv('/content/titanic.csv')\n",
        "df.head()"
      ],
      "execution_count": 4,
      "outputs": [
        {
          "output_type": "execute_result",
          "data": {
            "text/plain": [
              "   PassengerId  Survived  Pclass  \\\n",
              "0            1         0       3   \n",
              "1            2         1       1   \n",
              "2            3         1       3   \n",
              "3            4         1       1   \n",
              "4            5         0       3   \n",
              "\n",
              "                                                Name     Sex   Age  SibSp  \\\n",
              "0                            Braund, Mr. Owen Harris    male  22.0      1   \n",
              "1  Cumings, Mrs. John Bradley (Florence Briggs Th...  female  38.0      1   \n",
              "2                             Heikkinen, Miss. Laina  female  26.0      0   \n",
              "3       Futrelle, Mrs. Jacques Heath (Lily May Peel)  female  35.0      1   \n",
              "4                           Allen, Mr. William Henry    male  35.0      0   \n",
              "\n",
              "   Parch            Ticket     Fare Cabin Embarked  \n",
              "0      0         A/5 21171   7.2500   NaN        S  \n",
              "1      0          PC 17599  71.2833   C85        C  \n",
              "2      0  STON/O2. 3101282   7.9250   NaN        S  \n",
              "3      0            113803  53.1000  C123        S  \n",
              "4      0            373450   8.0500   NaN        S  "
            ],
            "text/html": [
              "\n",
              "  <div id=\"df-17df121c-c1c2-48ef-8c5e-7afa1ec22781\" class=\"colab-df-container\">\n",
              "    <div>\n",
              "<style scoped>\n",
              "    .dataframe tbody tr th:only-of-type {\n",
              "        vertical-align: middle;\n",
              "    }\n",
              "\n",
              "    .dataframe tbody tr th {\n",
              "        vertical-align: top;\n",
              "    }\n",
              "\n",
              "    .dataframe thead th {\n",
              "        text-align: right;\n",
              "    }\n",
              "</style>\n",
              "<table border=\"1\" class=\"dataframe\">\n",
              "  <thead>\n",
              "    <tr style=\"text-align: right;\">\n",
              "      <th></th>\n",
              "      <th>PassengerId</th>\n",
              "      <th>Survived</th>\n",
              "      <th>Pclass</th>\n",
              "      <th>Name</th>\n",
              "      <th>Sex</th>\n",
              "      <th>Age</th>\n",
              "      <th>SibSp</th>\n",
              "      <th>Parch</th>\n",
              "      <th>Ticket</th>\n",
              "      <th>Fare</th>\n",
              "      <th>Cabin</th>\n",
              "      <th>Embarked</th>\n",
              "    </tr>\n",
              "  </thead>\n",
              "  <tbody>\n",
              "    <tr>\n",
              "      <th>0</th>\n",
              "      <td>1</td>\n",
              "      <td>0</td>\n",
              "      <td>3</td>\n",
              "      <td>Braund, Mr. Owen Harris</td>\n",
              "      <td>male</td>\n",
              "      <td>22.0</td>\n",
              "      <td>1</td>\n",
              "      <td>0</td>\n",
              "      <td>A/5 21171</td>\n",
              "      <td>7.2500</td>\n",
              "      <td>NaN</td>\n",
              "      <td>S</td>\n",
              "    </tr>\n",
              "    <tr>\n",
              "      <th>1</th>\n",
              "      <td>2</td>\n",
              "      <td>1</td>\n",
              "      <td>1</td>\n",
              "      <td>Cumings, Mrs. John Bradley (Florence Briggs Th...</td>\n",
              "      <td>female</td>\n",
              "      <td>38.0</td>\n",
              "      <td>1</td>\n",
              "      <td>0</td>\n",
              "      <td>PC 17599</td>\n",
              "      <td>71.2833</td>\n",
              "      <td>C85</td>\n",
              "      <td>C</td>\n",
              "    </tr>\n",
              "    <tr>\n",
              "      <th>2</th>\n",
              "      <td>3</td>\n",
              "      <td>1</td>\n",
              "      <td>3</td>\n",
              "      <td>Heikkinen, Miss. Laina</td>\n",
              "      <td>female</td>\n",
              "      <td>26.0</td>\n",
              "      <td>0</td>\n",
              "      <td>0</td>\n",
              "      <td>STON/O2. 3101282</td>\n",
              "      <td>7.9250</td>\n",
              "      <td>NaN</td>\n",
              "      <td>S</td>\n",
              "    </tr>\n",
              "    <tr>\n",
              "      <th>3</th>\n",
              "      <td>4</td>\n",
              "      <td>1</td>\n",
              "      <td>1</td>\n",
              "      <td>Futrelle, Mrs. Jacques Heath (Lily May Peel)</td>\n",
              "      <td>female</td>\n",
              "      <td>35.0</td>\n",
              "      <td>1</td>\n",
              "      <td>0</td>\n",
              "      <td>113803</td>\n",
              "      <td>53.1000</td>\n",
              "      <td>C123</td>\n",
              "      <td>S</td>\n",
              "    </tr>\n",
              "    <tr>\n",
              "      <th>4</th>\n",
              "      <td>5</td>\n",
              "      <td>0</td>\n",
              "      <td>3</td>\n",
              "      <td>Allen, Mr. William Henry</td>\n",
              "      <td>male</td>\n",
              "      <td>35.0</td>\n",
              "      <td>0</td>\n",
              "      <td>0</td>\n",
              "      <td>373450</td>\n",
              "      <td>8.0500</td>\n",
              "      <td>NaN</td>\n",
              "      <td>S</td>\n",
              "    </tr>\n",
              "  </tbody>\n",
              "</table>\n",
              "</div>\n",
              "    <div class=\"colab-df-buttons\">\n",
              "\n",
              "  <div class=\"colab-df-container\">\n",
              "    <button class=\"colab-df-convert\" onclick=\"convertToInteractive('df-17df121c-c1c2-48ef-8c5e-7afa1ec22781')\"\n",
              "            title=\"Convert this dataframe to an interactive table.\"\n",
              "            style=\"display:none;\">\n",
              "\n",
              "  <svg xmlns=\"http://www.w3.org/2000/svg\" height=\"24px\" viewBox=\"0 -960 960 960\">\n",
              "    <path d=\"M120-120v-720h720v720H120Zm60-500h600v-160H180v160Zm220 220h160v-160H400v160Zm0 220h160v-160H400v160ZM180-400h160v-160H180v160Zm440 0h160v-160H620v160ZM180-180h160v-160H180v160Zm440 0h160v-160H620v160Z\"/>\n",
              "  </svg>\n",
              "    </button>\n",
              "\n",
              "  <style>\n",
              "    .colab-df-container {\n",
              "      display:flex;\n",
              "      gap: 12px;\n",
              "    }\n",
              "\n",
              "    .colab-df-convert {\n",
              "      background-color: #E8F0FE;\n",
              "      border: none;\n",
              "      border-radius: 50%;\n",
              "      cursor: pointer;\n",
              "      display: none;\n",
              "      fill: #1967D2;\n",
              "      height: 32px;\n",
              "      padding: 0 0 0 0;\n",
              "      width: 32px;\n",
              "    }\n",
              "\n",
              "    .colab-df-convert:hover {\n",
              "      background-color: #E2EBFA;\n",
              "      box-shadow: 0px 1px 2px rgba(60, 64, 67, 0.3), 0px 1px 3px 1px rgba(60, 64, 67, 0.15);\n",
              "      fill: #174EA6;\n",
              "    }\n",
              "\n",
              "    .colab-df-buttons div {\n",
              "      margin-bottom: 4px;\n",
              "    }\n",
              "\n",
              "    [theme=dark] .colab-df-convert {\n",
              "      background-color: #3B4455;\n",
              "      fill: #D2E3FC;\n",
              "    }\n",
              "\n",
              "    [theme=dark] .colab-df-convert:hover {\n",
              "      background-color: #434B5C;\n",
              "      box-shadow: 0px 1px 3px 1px rgba(0, 0, 0, 0.15);\n",
              "      filter: drop-shadow(0px 1px 2px rgba(0, 0, 0, 0.3));\n",
              "      fill: #FFFFFF;\n",
              "    }\n",
              "  </style>\n",
              "\n",
              "    <script>\n",
              "      const buttonEl =\n",
              "        document.querySelector('#df-17df121c-c1c2-48ef-8c5e-7afa1ec22781 button.colab-df-convert');\n",
              "      buttonEl.style.display =\n",
              "        google.colab.kernel.accessAllowed ? 'block' : 'none';\n",
              "\n",
              "      async function convertToInteractive(key) {\n",
              "        const element = document.querySelector('#df-17df121c-c1c2-48ef-8c5e-7afa1ec22781');\n",
              "        const dataTable =\n",
              "          await google.colab.kernel.invokeFunction('convertToInteractive',\n",
              "                                                    [key], {});\n",
              "        if (!dataTable) return;\n",
              "\n",
              "        const docLinkHtml = 'Like what you see? Visit the ' +\n",
              "          '<a target=\"_blank\" href=https://colab.research.google.com/notebooks/data_table.ipynb>data table notebook</a>'\n",
              "          + ' to learn more about interactive tables.';\n",
              "        element.innerHTML = '';\n",
              "        dataTable['output_type'] = 'display_data';\n",
              "        await google.colab.output.renderOutput(dataTable, element);\n",
              "        const docLink = document.createElement('div');\n",
              "        docLink.innerHTML = docLinkHtml;\n",
              "        element.appendChild(docLink);\n",
              "      }\n",
              "    </script>\n",
              "  </div>\n",
              "\n",
              "\n",
              "    <div id=\"df-4d8c18f5-02dd-493b-b04f-2a0a5eea61f8\">\n",
              "      <button class=\"colab-df-quickchart\" onclick=\"quickchart('df-4d8c18f5-02dd-493b-b04f-2a0a5eea61f8')\"\n",
              "                title=\"Suggest charts\"\n",
              "                style=\"display:none;\">\n",
              "\n",
              "<svg xmlns=\"http://www.w3.org/2000/svg\" height=\"24px\"viewBox=\"0 0 24 24\"\n",
              "     width=\"24px\">\n",
              "    <g>\n",
              "        <path d=\"M19 3H5c-1.1 0-2 .9-2 2v14c0 1.1.9 2 2 2h14c1.1 0 2-.9 2-2V5c0-1.1-.9-2-2-2zM9 17H7v-7h2v7zm4 0h-2V7h2v10zm4 0h-2v-4h2v4z\"/>\n",
              "    </g>\n",
              "</svg>\n",
              "      </button>\n",
              "\n",
              "<style>\n",
              "  .colab-df-quickchart {\n",
              "      --bg-color: #E8F0FE;\n",
              "      --fill-color: #1967D2;\n",
              "      --hover-bg-color: #E2EBFA;\n",
              "      --hover-fill-color: #174EA6;\n",
              "      --disabled-fill-color: #AAA;\n",
              "      --disabled-bg-color: #DDD;\n",
              "  }\n",
              "\n",
              "  [theme=dark] .colab-df-quickchart {\n",
              "      --bg-color: #3B4455;\n",
              "      --fill-color: #D2E3FC;\n",
              "      --hover-bg-color: #434B5C;\n",
              "      --hover-fill-color: #FFFFFF;\n",
              "      --disabled-bg-color: #3B4455;\n",
              "      --disabled-fill-color: #666;\n",
              "  }\n",
              "\n",
              "  .colab-df-quickchart {\n",
              "    background-color: var(--bg-color);\n",
              "    border: none;\n",
              "    border-radius: 50%;\n",
              "    cursor: pointer;\n",
              "    display: none;\n",
              "    fill: var(--fill-color);\n",
              "    height: 32px;\n",
              "    padding: 0;\n",
              "    width: 32px;\n",
              "  }\n",
              "\n",
              "  .colab-df-quickchart:hover {\n",
              "    background-color: var(--hover-bg-color);\n",
              "    box-shadow: 0 1px 2px rgba(60, 64, 67, 0.3), 0 1px 3px 1px rgba(60, 64, 67, 0.15);\n",
              "    fill: var(--button-hover-fill-color);\n",
              "  }\n",
              "\n",
              "  .colab-df-quickchart-complete:disabled,\n",
              "  .colab-df-quickchart-complete:disabled:hover {\n",
              "    background-color: var(--disabled-bg-color);\n",
              "    fill: var(--disabled-fill-color);\n",
              "    box-shadow: none;\n",
              "  }\n",
              "\n",
              "  .colab-df-spinner {\n",
              "    border: 2px solid var(--fill-color);\n",
              "    border-color: transparent;\n",
              "    border-bottom-color: var(--fill-color);\n",
              "    animation:\n",
              "      spin 1s steps(1) infinite;\n",
              "  }\n",
              "\n",
              "  @keyframes spin {\n",
              "    0% {\n",
              "      border-color: transparent;\n",
              "      border-bottom-color: var(--fill-color);\n",
              "      border-left-color: var(--fill-color);\n",
              "    }\n",
              "    20% {\n",
              "      border-color: transparent;\n",
              "      border-left-color: var(--fill-color);\n",
              "      border-top-color: var(--fill-color);\n",
              "    }\n",
              "    30% {\n",
              "      border-color: transparent;\n",
              "      border-left-color: var(--fill-color);\n",
              "      border-top-color: var(--fill-color);\n",
              "      border-right-color: var(--fill-color);\n",
              "    }\n",
              "    40% {\n",
              "      border-color: transparent;\n",
              "      border-right-color: var(--fill-color);\n",
              "      border-top-color: var(--fill-color);\n",
              "    }\n",
              "    60% {\n",
              "      border-color: transparent;\n",
              "      border-right-color: var(--fill-color);\n",
              "    }\n",
              "    80% {\n",
              "      border-color: transparent;\n",
              "      border-right-color: var(--fill-color);\n",
              "      border-bottom-color: var(--fill-color);\n",
              "    }\n",
              "    90% {\n",
              "      border-color: transparent;\n",
              "      border-bottom-color: var(--fill-color);\n",
              "    }\n",
              "  }\n",
              "</style>\n",
              "\n",
              "      <script>\n",
              "        async function quickchart(key) {\n",
              "          const quickchartButtonEl =\n",
              "            document.querySelector('#' + key + ' button');\n",
              "          quickchartButtonEl.disabled = true;  // To prevent multiple clicks.\n",
              "          quickchartButtonEl.classList.add('colab-df-spinner');\n",
              "          try {\n",
              "            const charts = await google.colab.kernel.invokeFunction(\n",
              "                'suggestCharts', [key], {});\n",
              "          } catch (error) {\n",
              "            console.error('Error during call to suggestCharts:', error);\n",
              "          }\n",
              "          quickchartButtonEl.classList.remove('colab-df-spinner');\n",
              "          quickchartButtonEl.classList.add('colab-df-quickchart-complete');\n",
              "        }\n",
              "        (() => {\n",
              "          let quickchartButtonEl =\n",
              "            document.querySelector('#df-4d8c18f5-02dd-493b-b04f-2a0a5eea61f8 button');\n",
              "          quickchartButtonEl.style.display =\n",
              "            google.colab.kernel.accessAllowed ? 'block' : 'none';\n",
              "        })();\n",
              "      </script>\n",
              "    </div>\n",
              "\n",
              "    </div>\n",
              "  </div>\n"
            ],
            "application/vnd.google.colaboratory.intrinsic+json": {
              "type": "dataframe",
              "variable_name": "df",
              "summary": "{\n  \"name\": \"df\",\n  \"rows\": 891,\n  \"fields\": [\n    {\n      \"column\": \"PassengerId\",\n      \"properties\": {\n        \"dtype\": \"number\",\n        \"std\": 257,\n        \"min\": 1,\n        \"max\": 891,\n        \"num_unique_values\": 891,\n        \"samples\": [\n          710,\n          440,\n          841\n        ],\n        \"semantic_type\": \"\",\n        \"description\": \"\"\n      }\n    },\n    {\n      \"column\": \"Survived\",\n      \"properties\": {\n        \"dtype\": \"number\",\n        \"std\": 0,\n        \"min\": 0,\n        \"max\": 1,\n        \"num_unique_values\": 2,\n        \"samples\": [\n          1,\n          0\n        ],\n        \"semantic_type\": \"\",\n        \"description\": \"\"\n      }\n    },\n    {\n      \"column\": \"Pclass\",\n      \"properties\": {\n        \"dtype\": \"number\",\n        \"std\": 0,\n        \"min\": 1,\n        \"max\": 3,\n        \"num_unique_values\": 3,\n        \"samples\": [\n          3,\n          1\n        ],\n        \"semantic_type\": \"\",\n        \"description\": \"\"\n      }\n    },\n    {\n      \"column\": \"Name\",\n      \"properties\": {\n        \"dtype\": \"string\",\n        \"num_unique_values\": 891,\n        \"samples\": [\n          \"Moubarek, Master. Halim Gonios (\\\"William George\\\")\",\n          \"Kvillner, Mr. Johan Henrik Johannesson\"\n        ],\n        \"semantic_type\": \"\",\n        \"description\": \"\"\n      }\n    },\n    {\n      \"column\": \"Sex\",\n      \"properties\": {\n        \"dtype\": \"category\",\n        \"num_unique_values\": 2,\n        \"samples\": [\n          \"female\",\n          \"male\"\n        ],\n        \"semantic_type\": \"\",\n        \"description\": \"\"\n      }\n    },\n    {\n      \"column\": \"Age\",\n      \"properties\": {\n        \"dtype\": \"number\",\n        \"std\": 14.526497332334044,\n        \"min\": 0.42,\n        \"max\": 80.0,\n        \"num_unique_values\": 88,\n        \"samples\": [\n          0.75,\n          22.0\n        ],\n        \"semantic_type\": \"\",\n        \"description\": \"\"\n      }\n    },\n    {\n      \"column\": \"SibSp\",\n      \"properties\": {\n        \"dtype\": \"number\",\n        \"std\": 1,\n        \"min\": 0,\n        \"max\": 8,\n        \"num_unique_values\": 7,\n        \"samples\": [\n          1,\n          0\n        ],\n        \"semantic_type\": \"\",\n        \"description\": \"\"\n      }\n    },\n    {\n      \"column\": \"Parch\",\n      \"properties\": {\n        \"dtype\": \"number\",\n        \"std\": 0,\n        \"min\": 0,\n        \"max\": 6,\n        \"num_unique_values\": 7,\n        \"samples\": [\n          0,\n          1\n        ],\n        \"semantic_type\": \"\",\n        \"description\": \"\"\n      }\n    },\n    {\n      \"column\": \"Ticket\",\n      \"properties\": {\n        \"dtype\": \"string\",\n        \"num_unique_values\": 681,\n        \"samples\": [\n          \"11774\",\n          \"248740\"\n        ],\n        \"semantic_type\": \"\",\n        \"description\": \"\"\n      }\n    },\n    {\n      \"column\": \"Fare\",\n      \"properties\": {\n        \"dtype\": \"number\",\n        \"std\": 49.693428597180905,\n        \"min\": 0.0,\n        \"max\": 512.3292,\n        \"num_unique_values\": 248,\n        \"samples\": [\n          11.2417,\n          51.8625\n        ],\n        \"semantic_type\": \"\",\n        \"description\": \"\"\n      }\n    },\n    {\n      \"column\": \"Cabin\",\n      \"properties\": {\n        \"dtype\": \"category\",\n        \"num_unique_values\": 147,\n        \"samples\": [\n          \"D45\",\n          \"B49\"\n        ],\n        \"semantic_type\": \"\",\n        \"description\": \"\"\n      }\n    },\n    {\n      \"column\": \"Embarked\",\n      \"properties\": {\n        \"dtype\": \"category\",\n        \"num_unique_values\": 3,\n        \"samples\": [\n          \"S\",\n          \"C\"\n        ],\n        \"semantic_type\": \"\",\n        \"description\": \"\"\n      }\n    }\n  ]\n}"
            }
          },
          "metadata": {},
          "execution_count": 4
        }
      ]
    },
    {
      "cell_type": "markdown",
      "metadata": {
        "id": "zUcb7X0eGCAi"
      },
      "source": [
        "## **PREGUNTA 3.**\n",
        "---\n",
        "Identificar y explorar los diferentes tipos de variables (columnas) del conjunto de datos y guardar las respuestas solicitadas en las variables solicitadas en cada punto.\n",
        "\n",
        "Utilice las siguientes celdas para explorar libremente el conjunto de datos utilizando *pandas*. Después, consigne sus respuestas en las preguntas que aparece más adelante.\n"
      ]
    },
    {
      "cell_type": "code",
      "metadata": {
        "id": "9K3e6F9_GF2J",
        "colab": {
          "base_uri": "https://localhost:8080/"
        },
        "outputId": "8383d4f1-cdc5-4a6b-9c89-c0fedf40a3d2"
      },
      "source": [
        "### ESCRIBA SU CÓDIGO AQUÍ Y MUESTRE EL RESULTADO OBTENIDO###\n",
        "df.info()"
      ],
      "execution_count": 5,
      "outputs": [
        {
          "output_type": "stream",
          "name": "stdout",
          "text": [
            "<class 'pandas.core.frame.DataFrame'>\n",
            "RangeIndex: 891 entries, 0 to 890\n",
            "Data columns (total 12 columns):\n",
            " #   Column       Non-Null Count  Dtype  \n",
            "---  ------       --------------  -----  \n",
            " 0   PassengerId  891 non-null    int64  \n",
            " 1   Survived     891 non-null    int64  \n",
            " 2   Pclass       891 non-null    int64  \n",
            " 3   Name         891 non-null    object \n",
            " 4   Sex          891 non-null    object \n",
            " 5   Age          714 non-null    float64\n",
            " 6   SibSp        891 non-null    int64  \n",
            " 7   Parch        891 non-null    int64  \n",
            " 8   Ticket       891 non-null    object \n",
            " 9   Fare         891 non-null    float64\n",
            " 10  Cabin        204 non-null    object \n",
            " 11  Embarked     889 non-null    object \n",
            "dtypes: float64(2), int64(5), object(5)\n",
            "memory usage: 83.7+ KB\n"
          ]
        }
      ]
    },
    {
      "cell_type": "code",
      "metadata": {
        "id": "YYR3RJnMXprq"
      },
      "source": [
        "### ESCRIBA SU CÓDIGO AQUÍ Y MUESTRE EL RESULTADO OBTENIDO###\n"
      ],
      "execution_count": 6,
      "outputs": []
    },
    {
      "cell_type": "code",
      "metadata": {
        "id": "v2k1B-70XsCH"
      },
      "source": [
        "### ESCRIBA SU CÓDIGO AQUÍ Y MUESTRE EL RESULTADO OBTENIDO###"
      ],
      "execution_count": 7,
      "outputs": []
    },
    {
      "cell_type": "markdown",
      "metadata": {
        "id": "ZVO_711up0Ox"
      },
      "source": [
        "### **PREGUNTA 4.**\n",
        "---\n",
        "\n",
        "> **¿Qué variables tienen filas con valores faltantes?**\n",
        "\n",
        "Llene la lista **`valores_faltantes`** con la respuesta correcta. El orden en que ponga los nombres de las variables no es importante.\n",
        "\n",
        "La respuesta debe ser una lista que contenga los nombres de las variables que presentan datos faltantes."
      ]
    },
    {
      "cell_type": "code",
      "source": [
        "### ESCRIBA SU CÓDIGO AQUÍ ### (~ 1 línea de código)\n",
        "valores_faltantes  = list(df.columns[df.isna().any()])\n",
        "valores_faltantes\n",
        "### FIN DEL CÓDIGO ###"
      ],
      "metadata": {
        "id": "NE7dMUct3vX_",
        "colab": {
          "base_uri": "https://localhost:8080/"
        },
        "outputId": "1d2597c7-3d92-420d-d600-f53bc2856606"
      },
      "execution_count": 8,
      "outputs": [
        {
          "output_type": "execute_result",
          "data": {
            "text/plain": [
              "['Age', 'Cabin', 'Embarked']"
            ]
          },
          "metadata": {},
          "execution_count": 8
        }
      ]
    },
    {
      "cell_type": "markdown",
      "metadata": {
        "id": "DrorYabwtQRd"
      },
      "source": [
        "### **PREGUNTA 5.**\n",
        "---\n",
        "> **¿Qué variables tienen valores categóricos?**\n",
        "\n",
        "Llene la lista **`categoricas`** con la respuesta correcta. El orden en que ponga los nombres de las variables no es importante.\n",
        "\n",
        "La respuesta debe ser una lista que contenga los nombres de las variables de tipo categórico."
      ]
    },
    {
      "cell_type": "code",
      "metadata": {
        "id": "9RIin_nisa4U",
        "colab": {
          "base_uri": "https://localhost:8080/"
        },
        "outputId": "ffb62854-0963-49d7-f42f-e33e3fa3c700"
      },
      "source": [
        "### ESCRIBA SU CÓDIGO AQUÍ ### (~ 1 línea de código)\n",
        "categoricas = list(df.select_dtypes(include = ['object','category']).columns)\n",
        "categoricas\n",
        "### FIN DEL CÓDIGO ###"
      ],
      "execution_count": 9,
      "outputs": [
        {
          "output_type": "execute_result",
          "data": {
            "text/plain": [
              "['Name', 'Sex', 'Ticket', 'Cabin', 'Embarked']"
            ]
          },
          "metadata": {},
          "execution_count": 9
        }
      ]
    },
    {
      "cell_type": "markdown",
      "metadata": {
        "id": "5zBGMQlpsTcF"
      },
      "source": [
        "### **PREGUNTA 6.**\n",
        "---\n",
        "\n",
        "> **¿Cuántos pasajeros embarcaron en cada uno de los puertos?**\n",
        "\n",
        "Llene la lista **`embarcaron`** con la respuesta correcta. El orden en que ponga los números de pasajeros que embarcaron en cada uno de los puertos no es importante.\n",
        "\n",
        "\n"
      ]
    },
    {
      "cell_type": "code",
      "metadata": {
        "id": "Xss4wH1dvVmT",
        "colab": {
          "base_uri": "https://localhost:8080/"
        },
        "outputId": "dde1fedc-6aa6-43c4-8d90-acb57906aa43"
      },
      "source": [
        "### ESCRIBA SU CÓDIGO AQUÍ ### (~ 1 línea de código)\n",
        "embarcaron = list(df['Embarked'].value_counts())\n",
        "embarcaron\n",
        "\n",
        "### FIN DEL CÓDIGO ###"
      ],
      "execution_count": 10,
      "outputs": [
        {
          "output_type": "execute_result",
          "data": {
            "text/plain": [
              "[644, 168, 77]"
            ]
          },
          "metadata": {},
          "execution_count": 10
        }
      ]
    },
    {
      "cell_type": "markdown",
      "metadata": {
        "id": "pDgZ-2iTzvOh"
      },
      "source": [
        "### **PREGUNTA 7.**\n",
        "---\n",
        "\n",
        "Encontrar el valor medio de todas las variables numéricas para aquellos que sobrevivieron.Por ejemplo, para aquellos que sobrevivieron el promedio de edad (variable **`Age`**) es aproximadamente **`28.343690`** años.\n",
        "\n",
        "Al interpretar los resultados puede ignorar la variable **`PassengerId`** que, aunque es un valor numérico, es usada como identificador.\n",
        "Mostrar los promedios obtenidos por variable en un objeto *Series* de *pandas* llamado **`supervivencia_numericas`**.\n",
        "\n",
        "\n",
        "> **Nota:** Tenga presente que el tipo de dato que se solicita es un objeto ***Series***."
      ]
    },
    {
      "cell_type": "code",
      "metadata": {
        "id": "YjDyw0B29w-h"
      },
      "source": [
        "### ESCRIBA SU CÓDIGO AQUÍ ### (~ 1 línea de código)\n",
        "supervivencia_numericas = df[df['Survived']== 1].mean(numeric_only = True)\n",
        "### FIN DEL CÓDIGO ###"
      ],
      "execution_count": 11,
      "outputs": []
    },
    {
      "cell_type": "code",
      "metadata": {
        "id": "hCI6MzoKB1Ny",
        "colab": {
          "base_uri": "https://localhost:8080/",
          "height": 303
        },
        "outputId": "52c1e6b2-132b-42b2-beb2-3dd26e851236"
      },
      "source": [
        "#TEST_CELL\n",
        "supervivencia_numericas.astype(int)"
      ],
      "execution_count": 12,
      "outputs": [
        {
          "output_type": "execute_result",
          "data": {
            "text/plain": [
              "PassengerId    444\n",
              "Survived         1\n",
              "Pclass           1\n",
              "Age             28\n",
              "SibSp            0\n",
              "Parch            0\n",
              "Fare            48\n",
              "dtype: int64"
            ],
            "text/html": [
              "<div>\n",
              "<style scoped>\n",
              "    .dataframe tbody tr th:only-of-type {\n",
              "        vertical-align: middle;\n",
              "    }\n",
              "\n",
              "    .dataframe tbody tr th {\n",
              "        vertical-align: top;\n",
              "    }\n",
              "\n",
              "    .dataframe thead th {\n",
              "        text-align: right;\n",
              "    }\n",
              "</style>\n",
              "<table border=\"1\" class=\"dataframe\">\n",
              "  <thead>\n",
              "    <tr style=\"text-align: right;\">\n",
              "      <th></th>\n",
              "      <th>0</th>\n",
              "    </tr>\n",
              "  </thead>\n",
              "  <tbody>\n",
              "    <tr>\n",
              "      <th>PassengerId</th>\n",
              "      <td>444</td>\n",
              "    </tr>\n",
              "    <tr>\n",
              "      <th>Survived</th>\n",
              "      <td>1</td>\n",
              "    </tr>\n",
              "    <tr>\n",
              "      <th>Pclass</th>\n",
              "      <td>1</td>\n",
              "    </tr>\n",
              "    <tr>\n",
              "      <th>Age</th>\n",
              "      <td>28</td>\n",
              "    </tr>\n",
              "    <tr>\n",
              "      <th>SibSp</th>\n",
              "      <td>0</td>\n",
              "    </tr>\n",
              "    <tr>\n",
              "      <th>Parch</th>\n",
              "      <td>0</td>\n",
              "    </tr>\n",
              "    <tr>\n",
              "      <th>Fare</th>\n",
              "      <td>48</td>\n",
              "    </tr>\n",
              "  </tbody>\n",
              "</table>\n",
              "</div><br><label><b>dtype:</b> int64</label>"
            ]
          },
          "metadata": {},
          "execution_count": 12
        }
      ]
    },
    {
      "cell_type": "markdown",
      "metadata": {
        "id": "8gJsxr25r0PZ"
      },
      "source": [
        "**Salida esperada:**\n",
        "```python\n",
        "PassengerId    444\n",
        "Pclass           1\n",
        "Age             28\n",
        "SibSp            0\n",
        "Parch            0\n",
        "Fare            48\n",
        "Name: 1, dtype: int64\n",
        "```"
      ]
    },
    {
      "cell_type": "markdown",
      "source": [
        "A continuación se crean tres arreglos de Numpy con los cuales deben construirse las gráficas propuestas."
      ],
      "metadata": {
        "id": "cCQN1NFXpYDo"
      }
    },
    {
      "cell_type": "code",
      "source": [
        "# Creando los datos  (EJECUTE ESTA CELDA SIN MODIFICARLA)\n",
        "x = np.linspace(0, 100, 10000)\n",
        "y = x**2\n",
        "\n",
        "fig1, ax1_mayor = plt.subplots()\n",
        "\n",
        "ax1_mayor.plot(x, y, label=\"y = x²\")\n",
        "ax1_mayor.set_xlabel(\"x\")\n",
        "ax1_mayor.set_ylabel(\"y\")\n",
        "\n",
        "ax1_menor = fig1.add_axes([0.2, 0.5, 0.4, 0.4])  # 40% del tamaño, empezando en 1/5 y mitad\n",
        "ax1_menor.plot(x, y)\n",
        "ax1_menor.set_title(\"zoom\")\n",
        "\n",
        "ax1_menor.set_xlim(20, 30)\n",
        "ax1_menor.set_ylim(400, 900)\n",
        "\n",
        "plt.show()"
      ],
      "metadata": {
        "id": "xTtm8x5armgo",
        "colab": {
          "base_uri": "https://localhost:8080/",
          "height": 481
        },
        "outputId": "9179cd71-faed-47a2-8e9d-3d4307c78f32"
      },
      "execution_count": 14,
      "outputs": [
        {
          "output_type": "display_data",
          "data": {
            "text/plain": [
              "<Figure size 640x480 with 2 Axes>"
            ],
            "image/png": "[encoded data removed]"
          },
          "metadata": {}
        }
      ]
    },
    {
      "cell_type": "markdown",
      "source": [
        "### **PREGUNTA 8.**\n",
        "---\n",
        "\n",
        "Para este ejercicio deberá usar los valores de los arreglos **`x`**, y **`y`** para reproducir una visualización (ver salida esperada)\n",
        "\n",
        "La figura está compuesta por dos objetos **`Axes`** de *Matplotlib*: uno grande con la vista de todos los datos y uno más pequeño (interno) que representa un *zoom* o acercamiento en una parte específica de los datos. Los **Axes** tienen las siguientes propiedades:\n",
        "\n",
        "* Ambas gráficas hacen parte de la figura llamada **`fig1`**.\n",
        "* **Gráfica mayor (`ax1_mayor`):** Esta gráfica representa los valores de los arreglos **`x`** en el eje $x$ y **`y`** en el eje $y$. Ocupa todo el tamaño disponible de la figura.\n",
        "* **Gráfica menor: (`ax1_menor`)** Esta gráfica representa los valores de los arreglos **`x`** en el eje $x$ y **`y`** en el eje $y$. Su tamaño es el $40\\%$ de la figura mayor, empezando en $1/5$ de la pantalla en $x$ y en la mitad de la pantalla en $y$. Sus límites en ambos ejes no son los límites por defecto, debe ajustarlos para hacer el zoom en la zona de interés del arreglo **`x`** mostrada en el gráfico.\n",
        "\n",
        "\n",
        "> **NOTA: Los comandos para graficar y modificar una figura deberían ir todos en la misma celda. Separarlos en celdas distintas puede causar que no se grafique nada.**"
      ],
      "metadata": {
        "id": "sX4Dhij4ptG4"
      }
    },
    {
      "cell_type": "markdown",
      "source": [
        "**Salida esperada:**\n",
        "\n",
        "![Ejercicio 1.png](data:image/png;base64,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)"
      ],
      "metadata": {
        "id": "hxAUbTLtgHDC"
      }
    }
  ]
}